{
 "cells": [
  {
   "cell_type": "markdown",
   "id": "fc7e4afe-d505-4375-a4ce-8244cb9786d3",
   "metadata": {},
   "source": [
    "## Q1. What is the mathematical formula for a linear SVM?"
   ]
  },
  {
   "cell_type": "markdown",
   "id": "1b8348a5-d2ce-4182-b895-f656269e36a1",
   "metadata": {},
   "source": [
    "## w * x + b = 0"
   ]
  },
  {
   "cell_type": "code",
   "execution_count": null,
   "id": "324537c7-b4bd-4d1d-a20b-4e38e93ce843",
   "metadata": {},
   "outputs": [],
   "source": []
  },
  {
   "cell_type": "markdown",
   "id": "584f2820-cb88-43a7-9565-20ec6590725a",
   "metadata": {},
   "source": [
    "##  Q2. What is the objective function of a linear SVM?"
   ]
  },
  {
   "cell_type": "markdown",
   "id": "21bcea7a-ff6c-4281-862c-397f27179d4d",
   "metadata": {},
   "source": [
    "## The objective function of a linear SVM is to:\n",
    "## Maximize the margin between the two classes.\n",
    "## Regularize the weights to prevent overfitting."
   ]
  },
  {
   "cell_type": "code",
   "execution_count": null,
   "id": "03d7bea3-60c9-40ed-b839-51f4824b9116",
   "metadata": {},
   "outputs": [],
   "source": []
  },
  {
   "cell_type": "markdown",
   "id": "7f3356f6-98f9-4713-9e51-2eacef9833cf",
   "metadata": {},
   "source": [
    "## Q3. What is the kernel trick in SVM?"
   ]
  },
  {
   "cell_type": "markdown",
   "id": "0b77720b-f2dc-4c0e-98e7-c536d6510f41",
   "metadata": {},
   "source": [
    "## The kernel trick is a technique used in support vector machines (SVMs) to transform the data into a higher dimensional space where it can be linearly separated."
   ]
  },
  {
   "cell_type": "code",
   "execution_count": null,
   "id": "60b21b5f-6bab-4851-b41d-280379a5adb5",
   "metadata": {},
   "outputs": [],
   "source": []
  },
  {
   "cell_type": "markdown",
   "id": "c47a200f-28dd-4b85-9d68-4a3afe129b11",
   "metadata": {},
   "source": [
    "## Q4. What is the role of support vectors in SVM Explain with example."
   ]
  },
  {
   "cell_type": "markdown",
   "id": "f527dabc-cdaf-4bd3-aadd-f3553f6f0483",
   "metadata": {},
   "source": [
    "## Support vectors are the data points that are closest to the hyperplane in a support vector machine (SVM). They play a crucial role in the SVM algorithm, as they determine the position and orientation of the hyperplane.\n"
   ]
  },
  {
   "cell_type": "code",
   "execution_count": null,
   "id": "1821a8e7-3585-4290-aad0-42eaf06cb068",
   "metadata": {},
   "outputs": [],
   "source": []
  },
  {
   "cell_type": "markdown",
   "id": "162841d9-41ef-4ab8-9bc9-7ad018f03741",
   "metadata": {},
   "source": [
    "## Q6. SVM Implementation through Iris dataset."
   ]
  },
  {
   "cell_type": "code",
   "execution_count": 2,
   "id": "b253791c-700b-45ea-bc7f-48288c88e7ad",
   "metadata": {},
   "outputs": [],
   "source": [
    "import numpy as np\n",
    "import pandas as pd\n",
    "from sklearn.datasets import load_iris\n",
    "from sklearn.model_selection import train_test_split\n",
    "\n",
    "\n",
    "iris = load_iris()\n",
    "X_train, X_test, y_train, y_test = train_test_split(iris.data, iris.target, test_size=0.25)\n"
   ]
  },
  {
   "cell_type": "code",
   "execution_count": null,
   "id": "4769a383-9c69-4a14-83a4-89bef9f85e92",
   "metadata": {},
   "outputs": [],
   "source": []
  }
 ],
 "metadata": {
  "kernelspec": {
   "display_name": "Python 3 (ipykernel)",
   "language": "python",
   "name": "python3"
  },
  "language_info": {
   "codemirror_mode": {
    "name": "ipython",
    "version": 3
   },
   "file_extension": ".py",
   "mimetype": "text/x-python",
   "name": "python",
   "nbconvert_exporter": "python",
   "pygments_lexer": "ipython3",
   "version": "3.10.8"
  }
 },
 "nbformat": 4,
 "nbformat_minor": 5
}
